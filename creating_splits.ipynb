{
 "cells": [
  {
   "cell_type": "code",
   "execution_count": 1,
   "metadata": {},
   "outputs": [],
   "source": [
    "import shutil, os\n",
    "from glob import glob\n",
    "from sklearn.model_selection import train_test_split\n",
    "import matplotlib.pyplot as plt\n",
    "import numpy as np\n",
    "import pandas as pd"
   ]
  },
  {
   "cell_type": "code",
   "execution_count": 12,
   "metadata": {},
   "outputs": [],
   "source": [
    "# Define params\n",
    "WAYS=3\n",
    "SHOTS=5\n",
    "SRC_SAMPLES=10\n",
    "SRC_THR=80\n",
    "TGT_SAMPLES=150"
   ]
  },
  {
   "cell_type": "code",
   "execution_count": 3,
   "metadata": {},
   "outputs": [
    {
     "name": "stdout",
     "output_type": "stream",
     "text": [
      "total 1394 classes\n"
     ]
    }
   ],
   "source": [
    "# List all classes\n",
    "all_classes = glob('/home/jovyan/data/fungi/images/*')\n",
    "print(f\"total {len(all_classes)} classes\")"
   ]
  },
  {
   "cell_type": "code",
   "execution_count": 4,
   "metadata": {},
   "outputs": [
    {
     "name": "stdout",
     "output_type": "stream",
     "text": [
      "Min 6 ,Max 442\n"
     ]
    }
   ],
   "source": [
    "# List length of each class\n",
    "data_per_class=[len(glob(sdir+'/*.JPG')) for sdir in all_classes]\n",
    "print(\"Min\",min(data_per_class),\",Max\",max(data_per_class))"
   ]
  },
  {
   "cell_type": "code",
   "execution_count": 5,
   "metadata": {},
   "outputs": [],
   "source": [
    "# Sort all the classes by ID\n",
    "sorted_classID=np.array(sorted([(l,e) for e,l in enumerate(data_per_class)]))"
   ]
  },
  {
   "cell_type": "code",
   "execution_count": 6,
   "metadata": {},
   "outputs": [
    {
     "data": {
      "text/plain": [
       "406"
      ]
     },
     "execution_count": 6,
     "metadata": {},
     "output_type": "execute_result"
    }
   ],
   "source": [
    "# Total usable classes\n",
    "sum(sorted_classID[:,0]>=SRC_THR)"
   ]
  },
  {
   "cell_type": "code",
   "execution_count": 7,
   "metadata": {},
   "outputs": [
    {
     "data": {
      "text/plain": [
       "205"
      ]
     },
     "execution_count": 7,
     "metadata": {},
     "output_type": "execute_result"
    }
   ],
   "source": [
    "# Total classes that can be used as target\n",
    "sum(sorted_classID[:,0]>=TGT_SAMPLES)"
   ]
  },
  {
   "cell_type": "code",
   "execution_count": 9,
   "metadata": {},
   "outputs": [
    {
     "name": "stdout",
     "output_type": "stream",
     "text": [
      "total 406 classes\n"
     ]
    }
   ],
   "source": [
    "# Filter unusable classes\n",
    "sorted_classID=sorted_classID[sorted_classID[:,0]>=SRC_THR,:]\n",
    "print(f\"total {len(sorted_classID)} classes\")"
   ]
  },
  {
   "cell_type": "code",
   "execution_count": 13,
   "metadata": {},
   "outputs": [
    {
     "name": "stdout",
     "output_type": "stream",
     "text": [
      "total 406 classes=source 293 + target 113 classes\n"
     ]
    }
   ],
   "source": [
    "# Partition classes for meta training and meta testing\n",
    "sourceID=sorted_classID[sorted_classID[:,0]<TGT_SAMPLES,1]\n",
    "targetID=sorted_classID[sorted_classID[:,0]>=TGT_SAMPLES,1]\n",
    "print(f\"total {len(sorted_classID)} classes=source {len(sourceID)} + target {len(targetID)} classes\")"
   ]
  },
  {
   "cell_type": "code",
   "execution_count": 14,
   "metadata": {},
   "outputs": [],
   "source": [
    "# Assign source and target class directories\n",
    "source_classes=np.array(all_classes)[sourceID]\n",
    "target_classes=np.array(all_classes)[targetID]"
   ]
  },
  {
   "cell_type": "code",
   "execution_count": 15,
   "metadata": {},
   "outputs": [],
   "source": [
    "# Creating source dataset in a directory\n",
    "np.random.seed(2021)\n",
    "for class_dir in source_classes:\n",
    "    label_name=os.path.basename(class_dir)\n",
    "    # List all files\n",
    "    label_pics=glob(os.path.join(class_dir,\"*.JPG\"))\n",
    "    # Pick some pictures\n",
    "    label_pics=np.random.choice(label_pics,size=SRC_SAMPLES,replace=False)\n",
    "    # Copy those pictures\n",
    "    class_dir=os.path.join(\"source\",label_name)\n",
    "    os.makedirs(class_dir,exist_ok = True)\n",
    "    for f in label_pics:\n",
    "        shutil.copy(src=f, dst=class_dir)"
   ]
  },
  {
   "cell_type": "code",
   "execution_count": 17,
   "metadata": {},
   "outputs": [
    {
     "name": "stdout",
     "output_type": "stream",
     "text": [
      "17\n"
     ]
    }
   ],
   "source": [
    "Q_SAMPLES=2000//len(targetID)\n",
    "print(Q_SAMPLES)"
   ]
  },
  {
   "cell_type": "code",
   "execution_count": 18,
   "metadata": {},
   "outputs": [],
   "source": [
    "# Creating Target in a directory\n",
    "\n",
    "np.random.seed(2021)\n",
    "for class_dir in target_classes:\n",
    "    label_name=os.path.basename(class_dir)\n",
    "    # copy some pics to new dir\n",
    "    label_pics=glob(os.path.join(class_dir,\"*.JPG\"))\n",
    "    label_pics=np.random.choice(label_pics,size=Q_SAMPLES+SHOTS,replace=False)\n",
    "    class_dir=os.path.join(\"target_support\",label_name)\n",
    "    os.makedirs(class_dir,exist_ok = True)\n",
    "    for f in label_pics:\n",
    "        shutil.copy(src=f, dst=class_dir)"
   ]
  },
  {
   "cell_type": "code",
   "execution_count": 19,
   "metadata": {},
   "outputs": [],
   "source": [
    "# Move those data and record tasks in a list\n",
    "target_ans=pd.DataFrame(columns=['filename']+[f'source{i:.0f}' for i in range(WAYS)]+[\"ans\"])\n",
    "all_tgt_classes = glob('target_support/*')\n",
    "os.makedirs(\"target_query\",exist_ok = True)\n",
    "np.random.seed(2021)\n",
    "for cls_id,class_dir in enumerate(all_tgt_classes):\n",
    "    label_name=os.path.basename(class_dir)\n",
    "    label_pics=glob(os.path.join(class_dir,\"*.JPG\"))\n",
    "    label_pics=np.random.choice(label_pics,size=Q_SAMPLES,replace=False)\n",
    "    for pics in label_pics:\n",
    "        ## pick classes exept query class\n",
    "        other_classes=np.random.choice(all_tgt_classes[:cls_id]+all_tgt_classes[cls_id+1:],\n",
    "                                       size=WAYS-1,\n",
    "                                       replace=False)\n",
    "        classes_in_task=np.random.permutation([os.path.basename(dir_name) for dir_name in other_classes]+[label_name])\n",
    "        label=list(classes_in_task).index(label_name)\n",
    "        filename=os.path.basename(pics)\n",
    "        shutil.move(pics,\"target_query\")\n",
    "        sample_frame=pd.DataFrame([[filename,*list(classes_in_task),label]],\n",
    "                                  columns=['filename']+[f'source{i:.0f}' for i in range(WAYS)]+[\"ans\"])\n",
    "        target_ans=target_ans.append(sample_frame)\n",
    "target_ans=target_ans.reset_index(drop=True)"
   ]
  },
  {
   "cell_type": "code",
   "execution_count": 20,
   "metadata": {},
   "outputs": [],
   "source": [
    "target_ans.to_csv(\"test.csv\",index=False)"
   ]
  },
  {
   "cell_type": "code",
   "execution_count": null,
   "metadata": {},
   "outputs": [],
   "source": []
  }
 ],
 "metadata": {
  "kernelspec": {
   "display_name": "Python 3",
   "language": "python",
   "name": "python3"
  },
  "language_info": {
   "codemirror_mode": {
    "name": "ipython",
    "version": 3
   },
   "file_extension": ".py",
   "mimetype": "text/x-python",
   "name": "python",
   "nbconvert_exporter": "python",
   "pygments_lexer": "ipython3",
   "version": "3.7.6"
  }
 },
 "nbformat": 4,
 "nbformat_minor": 4
}
